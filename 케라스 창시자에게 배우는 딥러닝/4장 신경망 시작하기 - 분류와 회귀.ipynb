{
 "cells": [
  {
   "cell_type": "markdown",
   "id": "3bb8d354",
   "metadata": {},
   "source": [
    "## 4.1 영화 리뷰 분류 : 이진 분류 문제\n",
    "## 4.2 뉴스 기사 분류 : 다중 분류 문제\n",
    "## 4.3 주택 가격 예측 : 회귀문제\n",
    "## 4.4 요약"
   ]
  },
  {
   "cell_type": "markdown",
   "id": "2549798f",
   "metadata": {},
   "source": [
    "**crossentropy** : 확률 분포 간의 차이 측정 = 원본 분포와 예측 분포 사이 측정 <- loss 함수\n",
    "\n",
    "- 데이터를 신경망에 넣어 줄 때 숫자 리스트를 바로 주입 할 수 x\n",
    "\n",
    "**리스트를 텐서로 바꾸는 두 가지 방법**\n",
    "\n",
    "- 정수 텐서\n",
    "    - 같은 길이가 되도록 리스트에 패딩 추가 (임베딩)\n",
    "    - 가장 긴 리스트 길이로 맞춰준다\n",
    "    - ex) sparse_categorical_crossentropy\n",
    "- 멀티-핫 인코딩 = 범주형 인코딩\n",
    "    - 0과 1의 벡터, 단어가 포함되면 그 위치는 1이 된다.\n",
    "    - 리스트가 하나의 벡터로 변환되므로 단어의 갯수 만큼 텐서 크기가 된다 (정수 텐서보다 커짐)\n",
    "    - ex) binary_crossentropy <- 이진 분류 문제\n",
    "    - ex) categorical_crossentropy <- 다중 분류 문제\n",
    "\n",
    "**evaluate**를 하면, 테스트 손실과 테스트 정확도를 알 수 있음\n",
    "\n",
    "**predict**를 하면, 각 테스트 데이터의 레이블을 알 수 o\n",
    "\n",
    "-- ex) binary(이진)의 경우 : 0.5보다 크면 1 , 0.5보다 작으면 0\n",
    "\n",
    "-- ex ) multiclass(다중) : np.argmax(predictions[0]) 이렇게 가장 큰 값을 예측 레이블로 생각\n",
    "\n"
   ]
  },
  {
   "cell_type": "markdown",
   "id": "1912b53d",
   "metadata": {},
   "source": [
    "## 생각해볼것들\n",
    "시그모이드와 소프트맥스의 차이?!\n",
    "\n",
    "cross-entropy[손실함수]가 정확히 뭘까?\n",
    "\n",
    "왜? 분류에만 쓸 수 있는 걸까\n",
    "\n",
    "선형회귀에서는 왜 mse[손실함수]를 쓸까?"
   ]
  }
 ],
 "metadata": {
  "kernelspec": {
   "display_name": "Python 3 (ipykernel)",
   "language": "python",
   "name": "python3"
  },
  "language_info": {
   "codemirror_mode": {
    "name": "ipython",
    "version": 3
   },
   "file_extension": ".py",
   "mimetype": "text/x-python",
   "name": "python",
   "nbconvert_exporter": "python",
   "pygments_lexer": "ipython3",
   "version": "3.9.7"
  }
 },
 "nbformat": 4,
 "nbformat_minor": 5
}
